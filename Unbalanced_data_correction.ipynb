{
 "cells": [
  {
   "cell_type": "markdown",
   "metadata": {
    "colab_type": "text",
    "id": "vTrxzudpf02x"
   },
   "source": [
    "# How to split an unbalanced data set into balanced classes"
   ]
  },
  {
   "cell_type": "code",
   "execution_count": 1,
   "metadata": {
    "colab": {},
    "colab_type": "code",
    "id": "MA_-rlz4f8qV"
   },
   "outputs": [
    {
     "name": "stderr",
     "output_type": "stream",
     "text": [
      "/homes/rd2016/.local/lib/python3.6/site-packages/google/colab/data_table.py:30: UserWarning: IPython.utils.traitlets has moved to a top-level traitlets package.\n",
      "  from IPython.utils import traitlets as _traitlets\n"
     ]
    }
   ],
   "source": [
    "import pandas as pd\n",
    "import numpy as np\n",
    "import sklearn\n",
    "import sklearn.ensemble as ens\n",
    "import sklearn.svm as svm\n",
    "import sklearn.metrics as metrics\n",
    "from sklearn.model_selection import KFold\n",
    "import matplotlib.pyplot as plt\n",
    "import seaborn as sb\n",
    "\n",
    "from google.colab import files"
   ]
  },
  {
   "cell_type": "code",
   "execution_count": null,
   "metadata": {
    "colab": {},
    "colab_type": "code",
    "id": "IJjpd34Kf8um"
   },
   "outputs": [],
   "source": [
    "upload = files.upload()"
   ]
  },
  {
   "cell_type": "code",
   "execution_count": null,
   "metadata": {
    "colab": {},
    "colab_type": "code",
    "id": "OU19ngsuf8w0"
   },
   "outputs": [],
   "source": [
    "data = pd.read_csv('data.csv')"
   ]
  },
  {
   "cell_type": "code",
   "execution_count": null,
   "metadata": {
    "colab": {},
    "colab_type": "code",
    "id": "gKHsLKrThUyD"
   },
   "outputs": [],
   "source": [
    "# check\n",
    "data.head()"
   ]
  },
  {
   "cell_type": "code",
   "execution_count": null,
   "metadata": {
    "colab": {},
    "colab_type": "code",
    "id": "rJnCC6AXhUwl"
   },
   "outputs": [],
   "source": [
    "# drop first column\n",
    "data.drop(columns='Unnamed: 0', inplace=True)"
   ]
  },
  {
   "cell_type": "code",
   "execution_count": null,
   "metadata": {
    "colab": {},
    "colab_type": "code",
    "id": "MsYjDV2fhUul"
   },
   "outputs": [],
   "source": [
    "# check\n",
    "data.head()"
   ]
  },
  {
   "cell_type": "code",
   "execution_count": null,
   "metadata": {
    "colab": {},
    "colab_type": "code",
    "id": "qCzwaHj1hUs1"
   },
   "outputs": [],
   "source": [
    "# class count\n",
    "count_0, count_1, count_2, count_3 = data.G.value_counts()\n",
    "\n",
    "# Divide by class\n",
    "df_0 = data[data['G'] == 0]\n",
    "df_1 = data[data['G'] == 1]\n",
    "df_2 = data[data['G'] == 2]\n",
    "df_3 = data[data['G'] == 3]"
   ]
  },
  {
   "cell_type": "code",
   "execution_count": null,
   "metadata": {
    "colab": {},
    "colab_type": "code",
    "id": "aAY93fezhUqW"
   },
   "outputs": [],
   "source": [
    "# see balance\n",
    "print(count_0, count_1, count_2, count_3)"
   ]
  },
  {
   "cell_type": "markdown",
   "metadata": {
    "colab_type": "text",
    "id": "YCJHPaVzoPLF"
   },
   "source": [
    "We can pick different classes to determine the number of samples. "
   ]
  },
  {
   "cell_type": "code",
   "execution_count": null,
   "metadata": {
    "colab": {},
    "colab_type": "code",
    "id": "aLOrhP7hkaB7"
   },
   "outputs": [],
   "source": [
    "# bootstrapping\n",
    "df_0_over = df_0.sample(count_1, replace=True).reset_index().drop(columns=['index'])\n",
    "df_1_over = df_1.sample(count_1, replace=True).reset_index().drop(columns=['index'])\n",
    "df_2_over = df_2.sample(count_1, replace=True).reset_index().drop(columns=['index'])\n",
    "df_3_over = df_3.sample(count_1, replace=True).reset_index().drop(columns=['index'])"
   ]
  },
  {
   "cell_type": "code",
   "execution_count": null,
   "metadata": {
    "colab": {},
    "colab_type": "code",
    "id": "BQM5Hl-imvFR"
   },
   "outputs": [],
   "source": [
    "# check\n",
    "df_3_over"
   ]
  },
  {
   "cell_type": "code",
   "execution_count": null,
   "metadata": {
    "colab": {},
    "colab_type": "code",
    "id": "WBLepM8EQqVc"
   },
   "outputs": [],
   "source": [
    "# see balance of oversampled data\n",
    "print(len(df_0_over), len(df_1_over), len(df_2_over), len(df_3_over))"
   ]
  },
  {
   "cell_type": "code",
   "execution_count": null,
   "metadata": {
    "colab": {},
    "colab_type": "code",
    "id": "FRkZYGxHmvCG"
   },
   "outputs": [],
   "source": [
    "# concatenating all classes again\n",
    "data_over = pd.concat([df_0_over, df_1_over, df_2_over, df_3_over])"
   ]
  },
  {
   "cell_type": "code",
   "execution_count": null,
   "metadata": {
    "colab": {},
    "colab_type": "code",
    "id": "Qisrgz28mu_O"
   },
   "outputs": [],
   "source": [
    "X_over = data_over[['A', 'B', 'C', 'D', 'E', 'F']]\n",
    "y_over = data_over[['G']]"
   ]
  },
  {
   "cell_type": "code",
   "execution_count": null,
   "metadata": {
    "colab": {},
    "colab_type": "code",
    "id": "uKAVufGNtWhu"
   },
   "outputs": [],
   "source": [
    "X_train_over, X_test_over, y_train_over, y_test_over = sklearn.model_selection.train_test_split(X_over, y_over, test_size=0.2, random_state=0)"
   ]
  },
  {
   "cell_type": "code",
   "execution_count": null,
   "metadata": {
    "colab": {},
    "colab_type": "code",
    "id": "WS49bUwXhUgn"
   },
   "outputs": [],
   "source": []
  },
  {
   "cell_type": "code",
   "execution_count": null,
   "metadata": {
    "colab": {},
    "colab_type": "code",
    "id": "BqVY6jgAhUdt"
   },
   "outputs": [],
   "source": []
  },
  {
   "cell_type": "code",
   "execution_count": null,
   "metadata": {
    "colab": {},
    "colab_type": "code",
    "id": "D_ibbPGbf8oj"
   },
   "outputs": [],
   "source": []
  }
 ],
 "metadata": {
  "colab": {
   "collapsed_sections": [],
   "name": "Unbalanced data correction.ipynb",
   "provenance": []
  },
  "kernelspec": {
   "display_name": "Python 3",
   "language": "python",
   "name": "python3"
  },
  "language_info": {
   "codemirror_mode": {
    "name": "ipython",
    "version": 3
   },
   "file_extension": ".py",
   "mimetype": "text/x-python",
   "name": "python",
   "nbconvert_exporter": "python",
   "pygments_lexer": "ipython3",
   "version": "3.6.8"
  }
 },
 "nbformat": 4,
 "nbformat_minor": 4
}
